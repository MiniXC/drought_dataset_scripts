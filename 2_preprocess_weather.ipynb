{
 "cells": [
  {
   "cell_type": "code",
   "execution_count": 12,
   "metadata": {},
   "outputs": [
    {
     "name": "stderr",
     "output_type": "stream",
     "text": [
      "ERROR:MainThread:vaex:issue loading plot\n",
      "Traceback (most recent call last):\n",
      "  File \"/home/cdminix/.local/lib/python3.8/site-packages/vaex/__init__.py\", line 789, in <module>\n",
      "    add_namespace = entry.load()\n",
      "  File \"/home/cdminix/anaconda3/lib/python3.8/site-packages/pkg_resources/__init__.py\", line 2446, in load\n",
      "    self.require(*args, **kwargs)\n",
      "  File \"/home/cdminix/anaconda3/lib/python3.8/site-packages/pkg_resources/__init__.py\", line 2469, in require\n",
      "    items = working_set.resolve(reqs, env, installer, extras=self.extras)\n",
      "  File \"/home/cdminix/anaconda3/lib/python3.8/site-packages/pkg_resources/__init__.py\", line 775, in resolve\n",
      "    raise VersionConflict(dist, req).with_context(dependent_req)\n",
      "pkg_resources.ContextualVersionConflict: (idna 2.10 (/home/cdminix/anaconda3/lib/python3.8/site-packages), Requirement.parse('idna<2.9,>=2.5'), {'requests'})\n",
      "ERROR:MainThread:vaex:issue loading astro\n",
      "Traceback (most recent call last):\n",
      "  File \"/home/cdminix/.local/lib/python3.8/site-packages/vaex/__init__.py\", line 789, in <module>\n",
      "    add_namespace = entry.load()\n",
      "  File \"/home/cdminix/anaconda3/lib/python3.8/site-packages/pkg_resources/__init__.py\", line 2446, in load\n",
      "    self.require(*args, **kwargs)\n",
      "  File \"/home/cdminix/anaconda3/lib/python3.8/site-packages/pkg_resources/__init__.py\", line 2469, in require\n",
      "    items = working_set.resolve(reqs, env, installer, extras=self.extras)\n",
      "  File \"/home/cdminix/anaconda3/lib/python3.8/site-packages/pkg_resources/__init__.py\", line 775, in resolve\n",
      "    raise VersionConflict(dist, req).with_context(dependent_req)\n",
      "pkg_resources.ContextualVersionConflict: (idna 2.10 (/home/cdminix/anaconda3/lib/python3.8/site-packages), Requirement.parse('idna<2.9,>=2.5'), {'requests'})\n",
      "ERROR:MainThread:vaex:issue loading reader\n",
      "Traceback (most recent call last):\n",
      "  File \"/home/cdminix/.local/lib/python3.8/site-packages/vaex/__init__.py\", line 789, in <module>\n",
      "    add_namespace = entry.load()\n",
      "  File \"/home/cdminix/anaconda3/lib/python3.8/site-packages/pkg_resources/__init__.py\", line 2446, in load\n",
      "    self.require(*args, **kwargs)\n",
      "  File \"/home/cdminix/anaconda3/lib/python3.8/site-packages/pkg_resources/__init__.py\", line 2469, in require\n",
      "    items = working_set.resolve(reqs, env, installer, extras=self.extras)\n",
      "  File \"/home/cdminix/anaconda3/lib/python3.8/site-packages/pkg_resources/__init__.py\", line 775, in resolve\n",
      "    raise VersionConflict(dist, req).with_context(dependent_req)\n",
      "pkg_resources.ContextualVersionConflict: (idna 2.10 (/home/cdminix/anaconda3/lib/python3.8/site-packages), Requirement.parse('idna<2.9,>=2.5'), {'requests'})\n"
     ]
    }
   ],
   "source": [
    "import orjson\n",
    "import pandas as pd\n",
    "import numpy as np\n",
    "from datetime import datetime\n",
    "import os\n",
    "from tqdm.auto import tqdm\n",
    "import csv\n",
    "import vaex"
   ]
  },
  {
   "cell_type": "code",
   "execution_count": 2,
   "metadata": {},
   "outputs": [],
   "source": [
    "latlon_df = pd.read_html('https://en.wikipedia.org/wiki/User:Michael_J/County_table', index_col=0)[0]\n",
    "float_degrees = lambda x: float(x.replace('°','').replace('–','-'))\n",
    "latlon_df['Latitude'] = latlon_df['Latitude'].apply(float_degrees)\n",
    "latlon_df['Longitude'] = latlon_df['Longitude'].apply(float_degrees)"
   ]
  },
  {
   "cell_type": "code",
   "execution_count": 6,
   "metadata": {},
   "outputs": [],
   "source": [
    "def dict_from_line(line):\n",
    "    values = orjson.loads(line[:-2])\n",
    "    values = values['features'][0]\n",
    "    lon, lat = values['geometry']['coordinates'][0], values['geometry']['coordinates'][1]\n",
    "    fips = latlon_df[\n",
    "        np.isclose(latlon_df['Longitude'],lon)&\n",
    "        np.isclose(latlon_df['Latitude'],lat)\n",
    "    ]['FIPS'].values[0]\n",
    "    value_dict = {\n",
    "        'fips': [],\n",
    "        'date': [],\n",
    "    }\n",
    "    for key in values['properties']['parameter']:\n",
    "        value_dict[key] = []\n",
    "    key0 = list(values['properties']['parameter'].keys())[0]\n",
    "    for val in values['properties']['parameter'][key0]:\n",
    "        date = datetime.strptime(val,'%Y%m%d').date()\n",
    "        value_dict['fips'].append(fips)\n",
    "        value_dict['date'].append(date)\n",
    "        for key in values['properties']['parameter']:\n",
    "            value_dict[key].append(values['properties']['parameter'][key][val])\n",
    "    return value_dict"
   ]
  },
  {
   "cell_type": "code",
   "execution_count": 4,
   "metadata": {},
   "outputs": [],
   "source": [
    "def file_len(fname):\n",
    "    with open(fname) as f:\n",
    "        for i, l in tqdm(enumerate(f)):\n",
    "            pass\n",
    "    return i + 1"
   ]
  },
  {
   "cell_type": "code",
   "execution_count": 5,
   "metadata": {},
   "outputs": [
    {
     "data": {
      "application/vnd.jupyter.widget-view+json": {
       "model_id": "c15db6e41f02436ea8e9b1d629f8ed1e",
       "version_major": 2,
       "version_minor": 0
      },
      "text/plain": [
       "0it [00:00, ?it/s]"
      ]
     },
     "metadata": {},
     "output_type": "display_data"
    }
   ],
   "source": [
    "json_len = file_len('data/weather.json')"
   ]
  },
  {
   "cell_type": "code",
   "execution_count": 10,
   "metadata": {},
   "outputs": [
    {
     "data": {
      "application/vnd.jupyter.widget-view+json": {
       "model_id": "91266a25727b4947b1502d792cb1340d",
       "version_major": 2,
       "version_minor": 0
      },
      "text/plain": [
       "  0%|          | 0/3111 [00:00<?, ?it/s]"
      ]
     },
     "metadata": {},
     "output_type": "display_data"
    },
    {
     "name": "stdout",
     "output_type": "stream",
     "text": [
      "EOF while parsing a value at line 1 column 0: line 1 column 1 (char 0)\n",
      "EOF while parsing an object at line 1 column 2527088: line 1 column 1 (char 0)\n",
      "EOF while parsing a value at line 1 column 0: line 1 column 1 (char 0)\n"
     ]
    }
   ],
   "source": [
    "output_path = 'weather_df.csv'\n",
    "open(output_path, 'w').close()\n",
    "is_first = True\n",
    "with open('data/weather.json', 'r') as file:\n",
    "    with open(output_path, 'w', newline='') as outfile:\n",
    "        writer = csv.writer(outfile, delimiter = \",\")\n",
    "        for i, line in tqdm(enumerate(file), total=json_len):\n",
    "            try:\n",
    "                val_dict = dict_from_line(line)\n",
    "                if is_first:\n",
    "                    writer.writerow(val_dict.keys())\n",
    "                    is_first = False\n",
    "                writer.writerows(zip(*val_dict.values()))\n",
    "            except Exception as e:\n",
    "                print(e)"
   ]
  },
  {
   "cell_type": "code",
   "execution_count": null,
   "metadata": {},
   "outputs": [],
   "source": [
    "for i, chunk in enumerate(pd.read_csv('weather_df.csv', chunksize=1_000_000)):\n",
    "    df_chunk = vaex.from_pandas(chunk, copy_index=False)\n",
    "    export_path = f'data/weather_part_{i}.hdf5'\n",
    "    df_chunk.export_hdf5(export_path)"
   ]
  },
  {
   "cell_type": "code",
   "execution_count": 18,
   "metadata": {},
   "outputs": [],
   "source": [
    "df = vaex.open('data/weather_part*')\n",
    "df['date'] = df['date'].values.astype('datetime64[ns]')\n",
    "df = df.sort(['fips','date'])\n",
    "df.export_hdf5('data/weather_df.hdf5')"
   ]
  },
  {
   "cell_type": "code",
   "execution_count": 27,
   "metadata": {},
   "outputs": [],
   "source": []
  },
  {
   "cell_type": "code",
   "execution_count": 29,
   "metadata": {},
   "outputs": [
    {
     "ename": "RuntimeError",
     "evalue": "this function is wrapped by a placeholder, you probably want to install vaex-viz",
     "output_type": "error",
     "traceback": [
      "\u001b[0;31m---------------------------------------------------------------------------\u001b[0m",
      "\u001b[0;31mRuntimeError\u001b[0m                              Traceback (most recent call last)",
      "\u001b[0;32m<ipython-input-29-50f5458c4e38>\u001b[0m in \u001b[0;36m<module>\u001b[0;34m\u001b[0m\n\u001b[0;32m----> 1\u001b[0;31m \u001b[0mdf\u001b[0m\u001b[0;34m.\u001b[0m\u001b[0mscatter\u001b[0m\u001b[0;34m(\u001b[0m\u001b[0;34m)\u001b[0m\u001b[0;34m\u001b[0m\u001b[0;34m\u001b[0m\u001b[0m\n\u001b[0m",
      "\u001b[0;32m~/.local/lib/python3.8/site-packages/vaex/dataframe.py\u001b[0m in \u001b[0;36mwrap\u001b[0;34m(*args, **kwargs)\u001b[0m\n\u001b[1;32m     63\u001b[0m \u001b[0;32mdef\u001b[0m \u001b[0m_requires\u001b[0m\u001b[0;34m(\u001b[0m\u001b[0mname\u001b[0m\u001b[0;34m)\u001b[0m\u001b[0;34m:\u001b[0m\u001b[0;34m\u001b[0m\u001b[0;34m\u001b[0m\u001b[0m\n\u001b[1;32m     64\u001b[0m     \u001b[0;32mdef\u001b[0m \u001b[0mwrap\u001b[0m\u001b[0;34m(\u001b[0m\u001b[0;34m*\u001b[0m\u001b[0margs\u001b[0m\u001b[0;34m,\u001b[0m \u001b[0;34m**\u001b[0m\u001b[0mkwargs\u001b[0m\u001b[0;34m)\u001b[0m\u001b[0;34m:\u001b[0m\u001b[0;34m\u001b[0m\u001b[0;34m\u001b[0m\u001b[0m\n\u001b[0;32m---> 65\u001b[0;31m         \u001b[0;32mraise\u001b[0m \u001b[0mRuntimeError\u001b[0m\u001b[0;34m(\u001b[0m\u001b[0;34m'this function is wrapped by a placeholder, you probably want to install vaex-'\u001b[0m \u001b[0;34m+\u001b[0m \u001b[0mname\u001b[0m\u001b[0;34m)\u001b[0m\u001b[0;34m\u001b[0m\u001b[0;34m\u001b[0m\u001b[0m\n\u001b[0m\u001b[1;32m     66\u001b[0m     \u001b[0;32mreturn\u001b[0m \u001b[0mwrap\u001b[0m\u001b[0;34m\u001b[0m\u001b[0;34m\u001b[0m\u001b[0m\n\u001b[1;32m     67\u001b[0m \u001b[0;34m\u001b[0m\u001b[0m\n",
      "\u001b[0;31mRuntimeError\u001b[0m: this function is wrapped by a placeholder, you probably want to install vaex-viz"
     ]
    }
   ],
   "source": [
    "df.scatter()"
   ]
  },
  {
   "cell_type": "code",
   "execution_count": null,
   "metadata": {},
   "outputs": [],
   "source": []
  }
 ],
 "metadata": {
  "kernelspec": {
   "display_name": "Python 3",
   "language": "python",
   "name": "python3"
  },
  "language_info": {
   "codemirror_mode": {
    "name": "ipython",
    "version": 3
   },
   "file_extension": ".py",
   "mimetype": "text/x-python",
   "name": "python",
   "nbconvert_exporter": "python",
   "pygments_lexer": "ipython3",
   "version": "3.8.5"
  }
 },
 "nbformat": 4,
 "nbformat_minor": 4
}
