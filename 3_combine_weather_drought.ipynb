{
 "cells": [
  {
   "cell_type": "code",
   "execution_count": 1,
   "metadata": {},
   "outputs": [],
   "source": [
    "%%capture\n",
    "import vaex\n",
    "import pandas as pd\n",
    "import numpy as np\n",
    "import matplotlib.pyplot as plt\n",
    "from tqdm.auto import tqdm\n",
    "from datetime import datetime\n",
    "from dateutil.relativedelta import relativedelta\n",
    "import calendar\n",
    "import multiprocessing\n",
    "import json\n",
    "import copy\n",
    "import h5py\n",
    "%load_ext line_profiler"
   ]
  },
  {
   "cell_type": "code",
   "execution_count": 3,
   "metadata": {},
   "outputs": [],
   "source": [
    "df = vaex.open('data/weather_df_date.hdf5')"
   ]
  },
  {
   "cell_type": "code",
   "execution_count": 2,
   "metadata": {},
   "outputs": [],
   "source": [
    "df_drought = pd.read_pickle('drought_df.pkl')"
   ]
  },
  {
   "cell_type": "code",
   "execution_count": 4,
   "metadata": {},
   "outputs": [],
   "source": [
    "df_drought['date'] = df_drought['date'].astype('datetime64[ns]')"
   ]
  },
  {
   "cell_type": "code",
   "execution_count": 5,
   "metadata": {},
   "outputs": [],
   "source": [
    "df['date_fips'] = df['date'].apply(lambda x: np.datetime_as_string(x, unit='D')) + df['fips'].astype('str')"
   ]
  },
  {
   "cell_type": "code",
   "execution_count": 6,
   "metadata": {},
   "outputs": [],
   "source": [
    "df_drought['score'] =\\\n",
    "(df_drought['D0']/100)+\\\n",
    "(df_drought['D1']/100)+\\\n",
    "(df_drought['D2']/100)+\\\n",
    "(df_drought['D3']/100)+\\\n",
    "(df_drought['D4']/100)"
   ]
  },
  {
   "cell_type": "code",
   "execution_count": 7,
   "metadata": {},
   "outputs": [],
   "source": [
    "df_drought['date_fips'] = df_drought['date'].astype('str') + df_drought['fips'].astype('str')"
   ]
  },
  {
   "cell_type": "code",
   "execution_count": 8,
   "metadata": {},
   "outputs": [],
   "source": [
    "join_df = df.join(vaex.from_pandas(df_drought), on='date_fips', rsuffix='dm')"
   ]
  },
  {
   "cell_type": "code",
   "execution_count": 9,
   "metadata": {},
   "outputs": [
    {
     "data": {
      "text/plain": [
       "dict_keys(['fips', 'date', 'PRECTOT', 'PS', 'QV2M', 'T2M', 'T2MDEW', 'T2MWET', 'T2M_MAX', 'T2M_MIN', 'T2M_RANGE', 'TS', 'WS10M', 'WS10M_MAX', 'WS10M_MIN', 'WS10M_RANGE', 'WS50M', 'WS50M_MAX', 'WS50M_MIN', 'WS50M_RANGE', 'fipsdm', 'lat', 'lon', 'None_', 'D0', 'D1', 'D2', 'D3', 'D4', 'datedm', 'score', 'date_fipsdm'])"
      ]
     },
     "execution_count": 9,
     "metadata": {},
     "output_type": "execute_result"
    }
   ],
   "source": [
    "join_df.columns.keys()"
   ]
  },
  {
   "cell_type": "code",
   "execution_count": 10,
   "metadata": {},
   "outputs": [],
   "source": [
    "join_df = join_df.drop(columns=[\n",
    "    'None_',\n",
    "    'D0',\n",
    "    'D1',\n",
    "    'D2',\n",
    "    'D3',\n",
    "    'D4',\n",
    "    'datedm',\n",
    "    'date_fipsdm',\n",
    "    'fipsdm',\n",
    "    'lat',\n",
    "    'lon'\n",
    "])"
   ]
  },
  {
   "cell_type": "code",
   "execution_count": 12,
   "metadata": {},
   "outputs": [],
   "source": [
    "join_df = join_df.drop(columns=[\n",
    "    'date_fips'\n",
    "])"
   ]
  },
  {
   "cell_type": "code",
   "execution_count": 57,
   "metadata": {},
   "outputs": [],
   "source": [
    "join_df['score'] = join_df['__score'].fillna(np.nan).values"
   ]
  },
  {
   "cell_type": "code",
   "execution_count": 59,
   "metadata": {},
   "outputs": [
    {
     "data": {
      "text/html": [
       "<table>\n",
       "<thead>\n",
       "<tr><th>#                                     </th><th>fips  </th><th>date                         </th><th>PRECTOT  </th><th>PS    </th><th>QV2M  </th><th>T2M  </th><th>T2MDEW  </th><th>T2MWET  </th><th>T2M_MAX  </th><th>T2M_MIN  </th><th>T2M_RANGE  </th><th>TS    </th><th>WS10M  </th><th>WS10M_MAX  </th><th>WS10M_MIN  </th><th>WS10M_RANGE  </th><th>WS50M  </th><th>WS50M_MAX  </th><th>WS50M_MIN  </th><th>WS50M_RANGE  </th><th>score             </th></tr>\n",
       "</thead>\n",
       "<tbody>\n",
       "<tr><td><i style='opacity: 0.6'>0</i>         </td><td>1001  </td><td>2000-01-01 00:00:00.000000000</td><td>0.22     </td><td>100.51</td><td>9.65  </td><td>14.74</td><td>13.51   </td><td>13.51   </td><td>20.96    </td><td>11.46    </td><td>9.5        </td><td>14.65 </td><td>2.2    </td><td>2.94       </td><td>1.49       </td><td>1.46         </td><td>4.85   </td><td>6.04       </td><td>3.23       </td><td>2.81         </td><td>nan               </td></tr>\n",
       "<tr><td><i style='opacity: 0.6'>1</i>         </td><td>1001  </td><td>2000-01-02 00:00:00.000000000</td><td>0.2      </td><td>100.55</td><td>10.42 </td><td>16.69</td><td>14.71   </td><td>14.71   </td><td>22.8     </td><td>12.61    </td><td>10.18      </td><td>16.6  </td><td>2.52   </td><td>3.43       </td><td>1.83       </td><td>1.6          </td><td>5.33   </td><td>6.13       </td><td>3.72       </td><td>2.41         </td><td>nan               </td></tr>\n",
       "<tr><td><i style='opacity: 0.6'>2</i>         </td><td>1001  </td><td>2000-01-03 00:00:00.000000000</td><td>3.65     </td><td>100.15</td><td>11.76 </td><td>18.49</td><td>16.52   </td><td>16.52   </td><td>22.73    </td><td>15.32    </td><td>7.41       </td><td>18.41 </td><td>4.03   </td><td>5.33       </td><td>2.66       </td><td>2.67         </td><td>7.53   </td><td>9.52       </td><td>5.87       </td><td>3.66         </td><td>nan               </td></tr>\n",
       "<tr><td><i style='opacity: 0.6'>3</i>         </td><td>1001  </td><td>2000-01-04 00:00:00.000000000</td><td>15.95    </td><td>100.29</td><td>6.42  </td><td>11.4 </td><td>6.09    </td><td>6.1     </td><td>18.09    </td><td>2.16     </td><td>15.92      </td><td>11.31 </td><td>3.84   </td><td>5.67       </td><td>2.08       </td><td>3.59         </td><td>6.73   </td><td>9.31       </td><td>3.74       </td><td>5.58         </td><td>1.0               </td></tr>\n",
       "<tr><td><i style='opacity: 0.6'>4</i>         </td><td>1001  </td><td>2000-01-05 00:00:00.000000000</td><td>0.0      </td><td>101.15</td><td>2.95  </td><td>3.86 </td><td>-3.29   </td><td>-3.2    </td><td>10.82    </td><td>-2.66    </td><td>13.48      </td><td>2.65  </td><td>1.6    </td><td>2.5        </td><td>0.52       </td><td>1.98         </td><td>2.94   </td><td>4.85       </td><td>0.65       </td><td>4.19         </td><td>nan               </td></tr>\n",
       "<tr><td>...                                   </td><td>...   </td><td>...                          </td><td>...      </td><td>...   </td><td>...   </td><td>...  </td><td>...     </td><td>...     </td><td>...      </td><td>...      </td><td>...        </td><td>...   </td><td>...    </td><td>...        </td><td>...        </td><td>...          </td><td>...    </td><td>...        </td><td>...        </td><td>...          </td><td>...               </td></tr>\n",
       "<tr><td><i style='opacity: 0.6'>23,841,463</i></td><td>56043 </td><td>2020-12-27 00:00:00.000000000</td><td>3.83     </td><td>82.91 </td><td>2.77  </td><td>-3.61</td><td>-6.77   </td><td>-5.19   </td><td>0.24     </td><td>-9.07    </td><td>9.31       </td><td>-5.88 </td><td>2.98   </td><td>6.04       </td><td>0.72       </td><td>5.31         </td><td>4.56   </td><td>7.68       </td><td>1.03       </td><td>6.66         </td><td>nan               </td></tr>\n",
       "<tr><td><i style='opacity: 0.6'>23,841,464</i></td><td>56043 </td><td>2020-12-28 00:00:00.000000000</td><td>0.0      </td><td>83.04 </td><td>1.82  </td><td>-7.31</td><td>-12.06  </td><td>-9.68   </td><td>-1.48    </td><td>-11.51   </td><td>10.03      </td><td>-10.61</td><td>1.83   </td><td>2.81       </td><td>0.1        </td><td>2.72         </td><td>2.52   </td><td>3.69       </td><td>0.14       </td><td>3.56         </td><td>nan               </td></tr>\n",
       "<tr><td><i style='opacity: 0.6'>23,841,465</i></td><td>56043 </td><td>2020-12-29 00:00:00.000000000</td><td>0.0      </td><td>82.78 </td><td>1.87  </td><td>-7.38</td><td>-11.79  </td><td>-9.59   </td><td>-0.88    </td><td>-11.39   </td><td>10.51      </td><td>-10.81</td><td>2.7    </td><td>6.22       </td><td>0.18       </td><td>6.04         </td><td>3.84   </td><td>7.66       </td><td>0.29       </td><td>7.37         </td><td>3.5181999999999998</td></tr>\n",
       "<tr><td><i style='opacity: 0.6'>23,841,466</i></td><td>56043 </td><td>2020-12-30 00:00:00.000000000</td><td>0.01     </td><td>82.87 </td><td>1.57  </td><td>-6.4 </td><td>-13.94  </td><td>-10.17  </td><td>1.33     </td><td>-12.16   </td><td>13.49      </td><td>-8.74 </td><td>2.93   </td><td>4.1        </td><td>1.62       </td><td>2.48         </td><td>4.42   </td><td>6.05       </td><td>2.79       </td><td>3.26         </td><td>nan               </td></tr>\n",
       "<tr><td><i style='opacity: 0.6'>23,841,467</i></td><td>56043 </td><td>2020-12-31 00:00:00.000000000</td><td>0.0      </td><td>82.82 </td><td>2.13  </td><td>-3.83</td><td>-10.12  </td><td>-6.98   </td><td>2.16     </td><td>-8.57    </td><td>10.73      </td><td>-6.61 </td><td>2.16   </td><td>3.72       </td><td>0.31       </td><td>3.41         </td><td>3.39   </td><td>6.46       </td><td>0.41       </td><td>6.06         </td><td>nan               </td></tr>\n",
       "</tbody>\n",
       "</table>"
      ],
      "text/plain": [
       "#           fips    date                           PRECTOT    PS      QV2M    T2M    T2MDEW    T2MWET    T2M_MAX    T2M_MIN    T2M_RANGE    TS      WS10M    WS10M_MAX    WS10M_MIN    WS10M_RANGE    WS50M    WS50M_MAX    WS50M_MIN    WS50M_RANGE    score\n",
       "0           1001    2000-01-01 00:00:00.000000000  0.22       100.51  9.65    14.74  13.51     13.51     20.96      11.46      9.5          14.65   2.2      2.94         1.49         1.46           4.85     6.04         3.23         2.81           nan\n",
       "1           1001    2000-01-02 00:00:00.000000000  0.2        100.55  10.42   16.69  14.71     14.71     22.8       12.61      10.18        16.6    2.52     3.43         1.83         1.6            5.33     6.13         3.72         2.41           nan\n",
       "2           1001    2000-01-03 00:00:00.000000000  3.65       100.15  11.76   18.49  16.52     16.52     22.73      15.32      7.41         18.41   4.03     5.33         2.66         2.67           7.53     9.52         5.87         3.66           nan\n",
       "3           1001    2000-01-04 00:00:00.000000000  15.95      100.29  6.42    11.4   6.09      6.1       18.09      2.16       15.92        11.31   3.84     5.67         2.08         3.59           6.73     9.31         3.74         5.58           1.0\n",
       "4           1001    2000-01-05 00:00:00.000000000  0.0        101.15  2.95    3.86   -3.29     -3.2      10.82      -2.66      13.48        2.65    1.6      2.5          0.52         1.98           2.94     4.85         0.65         4.19           nan\n",
       "...         ...     ...                            ...        ...     ...     ...    ...       ...       ...        ...        ...          ...     ...      ...          ...          ...            ...      ...          ...          ...            ...\n",
       "23,841,463  56043   2020-12-27 00:00:00.000000000  3.83       82.91   2.77    -3.61  -6.77     -5.19     0.24       -9.07      9.31         -5.88   2.98     6.04         0.72         5.31           4.56     7.68         1.03         6.66           nan\n",
       "23,841,464  56043   2020-12-28 00:00:00.000000000  0.0        83.04   1.82    -7.31  -12.06    -9.68     -1.48      -11.51     10.03        -10.61  1.83     2.81         0.1          2.72           2.52     3.69         0.14         3.56           nan\n",
       "23,841,465  56043   2020-12-29 00:00:00.000000000  0.0        82.78   1.87    -7.38  -11.79    -9.59     -0.88      -11.39     10.51        -10.81  2.7      6.22         0.18         6.04           3.84     7.66         0.29         7.37           3.5181999999999998\n",
       "23,841,466  56043   2020-12-30 00:00:00.000000000  0.01       82.87   1.57    -6.4   -13.94    -10.17    1.33       -12.16     13.49        -8.74   2.93     4.1          1.62         2.48           4.42     6.05         2.79         3.26           nan\n",
       "23,841,467  56043   2020-12-31 00:00:00.000000000  0.0        82.82   2.13    -3.83  -10.12    -6.98     2.16       -8.57      10.73        -6.61   2.16     3.72         0.31         3.41           3.39     6.46         0.41         6.06           nan"
      ]
     },
     "execution_count": 59,
     "metadata": {},
     "output_type": "execute_result"
    }
   ],
   "source": [
    "join_df"
   ]
  },
  {
   "cell_type": "code",
   "execution_count": 13,
   "metadata": {},
   "outputs": [
    {
     "data": {
      "text/html": [
       "<table>\n",
       "<thead>\n",
       "<tr><th>#                                     </th><th>fips  </th><th>date                         </th><th>PRECTOT  </th><th>PS    </th><th>QV2M  </th><th>T2M  </th><th>T2MDEW  </th><th>T2MWET  </th><th>T2M_MAX  </th><th>T2M_MIN  </th><th>T2M_RANGE  </th><th>TS    </th><th>WS10M  </th><th>WS10M_MAX  </th><th>WS10M_MIN  </th><th>WS10M_RANGE  </th><th>WS50M  </th><th>WS50M_MAX  </th><th>WS50M_MIN  </th><th>WS50M_RANGE  </th><th>score             </th></tr>\n",
       "</thead>\n",
       "<tbody>\n",
       "<tr><td><i style='opacity: 0.6'>0</i>         </td><td>1001  </td><td>2000-01-01 00:00:00.000000000</td><td>0.22     </td><td>100.51</td><td>9.65  </td><td>14.74</td><td>13.51   </td><td>13.51   </td><td>20.96    </td><td>11.46    </td><td>9.5        </td><td>14.65 </td><td>2.2    </td><td>2.94       </td><td>1.49       </td><td>1.46         </td><td>4.85   </td><td>6.04       </td><td>3.23       </td><td>2.81         </td><td>--                </td></tr>\n",
       "<tr><td><i style='opacity: 0.6'>1</i>         </td><td>1001  </td><td>2000-01-02 00:00:00.000000000</td><td>0.2      </td><td>100.55</td><td>10.42 </td><td>16.69</td><td>14.71   </td><td>14.71   </td><td>22.8     </td><td>12.61    </td><td>10.18      </td><td>16.6  </td><td>2.52   </td><td>3.43       </td><td>1.83       </td><td>1.6          </td><td>5.33   </td><td>6.13       </td><td>3.72       </td><td>2.41         </td><td>--                </td></tr>\n",
       "<tr><td><i style='opacity: 0.6'>2</i>         </td><td>1001  </td><td>2000-01-03 00:00:00.000000000</td><td>3.65     </td><td>100.15</td><td>11.76 </td><td>18.49</td><td>16.52   </td><td>16.52   </td><td>22.73    </td><td>15.32    </td><td>7.41       </td><td>18.41 </td><td>4.03   </td><td>5.33       </td><td>2.66       </td><td>2.67         </td><td>7.53   </td><td>9.52       </td><td>5.87       </td><td>3.66         </td><td>--                </td></tr>\n",
       "<tr><td><i style='opacity: 0.6'>3</i>         </td><td>1001  </td><td>2000-01-04 00:00:00.000000000</td><td>15.95    </td><td>100.29</td><td>6.42  </td><td>11.4 </td><td>6.09    </td><td>6.1     </td><td>18.09    </td><td>2.16     </td><td>15.92      </td><td>11.31 </td><td>3.84   </td><td>5.67       </td><td>2.08       </td><td>3.59         </td><td>6.73   </td><td>9.31       </td><td>3.74       </td><td>5.58         </td><td>1.0               </td></tr>\n",
       "<tr><td><i style='opacity: 0.6'>4</i>         </td><td>1001  </td><td>2000-01-05 00:00:00.000000000</td><td>0.0      </td><td>101.15</td><td>2.95  </td><td>3.86 </td><td>-3.29   </td><td>-3.2    </td><td>10.82    </td><td>-2.66    </td><td>13.48      </td><td>2.65  </td><td>1.6    </td><td>2.5        </td><td>0.52       </td><td>1.98         </td><td>2.94   </td><td>4.85       </td><td>0.65       </td><td>4.19         </td><td>--                </td></tr>\n",
       "<tr><td>...                                   </td><td>...   </td><td>...                          </td><td>...      </td><td>...   </td><td>...   </td><td>...  </td><td>...     </td><td>...     </td><td>...      </td><td>...      </td><td>...        </td><td>...   </td><td>...    </td><td>...        </td><td>...        </td><td>...          </td><td>...    </td><td>...        </td><td>...        </td><td>...          </td><td>...               </td></tr>\n",
       "<tr><td><i style='opacity: 0.6'>23,841,463</i></td><td>56043 </td><td>2020-12-27 00:00:00.000000000</td><td>3.83     </td><td>82.91 </td><td>2.77  </td><td>-3.61</td><td>-6.77   </td><td>-5.19   </td><td>0.24     </td><td>-9.07    </td><td>9.31       </td><td>-5.88 </td><td>2.98   </td><td>6.04       </td><td>0.72       </td><td>5.31         </td><td>4.56   </td><td>7.68       </td><td>1.03       </td><td>6.66         </td><td>--                </td></tr>\n",
       "<tr><td><i style='opacity: 0.6'>23,841,464</i></td><td>56043 </td><td>2020-12-28 00:00:00.000000000</td><td>0.0      </td><td>83.04 </td><td>1.82  </td><td>-7.31</td><td>-12.06  </td><td>-9.68   </td><td>-1.48    </td><td>-11.51   </td><td>10.03      </td><td>-10.61</td><td>1.83   </td><td>2.81       </td><td>0.1        </td><td>2.72         </td><td>2.52   </td><td>3.69       </td><td>0.14       </td><td>3.56         </td><td>--                </td></tr>\n",
       "<tr><td><i style='opacity: 0.6'>23,841,465</i></td><td>56043 </td><td>2020-12-29 00:00:00.000000000</td><td>0.0      </td><td>82.78 </td><td>1.87  </td><td>-7.38</td><td>-11.79  </td><td>-9.59   </td><td>-0.88    </td><td>-11.39   </td><td>10.51      </td><td>-10.81</td><td>2.7    </td><td>6.22       </td><td>0.18       </td><td>6.04         </td><td>3.84   </td><td>7.66       </td><td>0.29       </td><td>7.37         </td><td>3.5181999999999998</td></tr>\n",
       "<tr><td><i style='opacity: 0.6'>23,841,466</i></td><td>56043 </td><td>2020-12-30 00:00:00.000000000</td><td>0.01     </td><td>82.87 </td><td>1.57  </td><td>-6.4 </td><td>-13.94  </td><td>-10.17  </td><td>1.33     </td><td>-12.16   </td><td>13.49      </td><td>-8.74 </td><td>2.93   </td><td>4.1        </td><td>1.62       </td><td>2.48         </td><td>4.42   </td><td>6.05       </td><td>2.79       </td><td>3.26         </td><td>--                </td></tr>\n",
       "<tr><td><i style='opacity: 0.6'>23,841,467</i></td><td>56043 </td><td>2020-12-31 00:00:00.000000000</td><td>0.0      </td><td>82.82 </td><td>2.13  </td><td>-3.83</td><td>-10.12  </td><td>-6.98   </td><td>2.16     </td><td>-8.57    </td><td>10.73      </td><td>-6.61 </td><td>2.16   </td><td>3.72       </td><td>0.31       </td><td>3.41         </td><td>3.39   </td><td>6.46       </td><td>0.41       </td><td>6.06         </td><td>--                </td></tr>\n",
       "</tbody>\n",
       "</table>"
      ],
      "text/plain": [
       "#           fips    date                           PRECTOT    PS      QV2M    T2M    T2MDEW    T2MWET    T2M_MAX    T2M_MIN    T2M_RANGE    TS      WS10M    WS10M_MAX    WS10M_MIN    WS10M_RANGE    WS50M    WS50M_MAX    WS50M_MIN    WS50M_RANGE    score\n",
       "0           1001    2000-01-01 00:00:00.000000000  0.22       100.51  9.65    14.74  13.51     13.51     20.96      11.46      9.5          14.65   2.2      2.94         1.49         1.46           4.85     6.04         3.23         2.81           --\n",
       "1           1001    2000-01-02 00:00:00.000000000  0.2        100.55  10.42   16.69  14.71     14.71     22.8       12.61      10.18        16.6    2.52     3.43         1.83         1.6            5.33     6.13         3.72         2.41           --\n",
       "2           1001    2000-01-03 00:00:00.000000000  3.65       100.15  11.76   18.49  16.52     16.52     22.73      15.32      7.41         18.41   4.03     5.33         2.66         2.67           7.53     9.52         5.87         3.66           --\n",
       "3           1001    2000-01-04 00:00:00.000000000  15.95      100.29  6.42    11.4   6.09      6.1       18.09      2.16       15.92        11.31   3.84     5.67         2.08         3.59           6.73     9.31         3.74         5.58           1.0\n",
       "4           1001    2000-01-05 00:00:00.000000000  0.0        101.15  2.95    3.86   -3.29     -3.2      10.82      -2.66      13.48        2.65    1.6      2.5          0.52         1.98           2.94     4.85         0.65         4.19           --\n",
       "...         ...     ...                            ...        ...     ...     ...    ...       ...       ...        ...        ...          ...     ...      ...          ...          ...            ...      ...          ...          ...            ...\n",
       "23,841,463  56043   2020-12-27 00:00:00.000000000  3.83       82.91   2.77    -3.61  -6.77     -5.19     0.24       -9.07      9.31         -5.88   2.98     6.04         0.72         5.31           4.56     7.68         1.03         6.66           --\n",
       "23,841,464  56043   2020-12-28 00:00:00.000000000  0.0        83.04   1.82    -7.31  -12.06    -9.68     -1.48      -11.51     10.03        -10.61  1.83     2.81         0.1          2.72           2.52     3.69         0.14         3.56           --\n",
       "23,841,465  56043   2020-12-29 00:00:00.000000000  0.0        82.78   1.87    -7.38  -11.79    -9.59     -0.88      -11.39     10.51        -10.81  2.7      6.22         0.18         6.04           3.84     7.66         0.29         7.37           3.5181999999999998\n",
       "23,841,466  56043   2020-12-30 00:00:00.000000000  0.01       82.87   1.57    -6.4   -13.94    -10.17    1.33       -12.16     13.49        -8.74   2.93     4.1          1.62         2.48           4.42     6.05         2.79         3.26           --\n",
       "23,841,467  56043   2020-12-31 00:00:00.000000000  0.0        82.82   2.13    -3.83  -10.12    -6.98     2.16       -8.57      10.73        -6.61   2.16     3.72         0.31         3.41           3.39     6.46         0.41         6.06           --"
      ]
     },
     "execution_count": 13,
     "metadata": {},
     "output_type": "execute_result"
    }
   ],
   "source": [
    "join_df"
   ]
  },
  {
   "cell_type": "code",
   "execution_count": 60,
   "metadata": {},
   "outputs": [],
   "source": [
    "train_df = join_df[join_df['date']<np.datetime64(datetime(2017,1,1))]"
   ]
  },
  {
   "cell_type": "code",
   "execution_count": 61,
   "metadata": {},
   "outputs": [],
   "source": [
    "validation_df = join_df[(join_df['date']>=np.datetime64(datetime(2017,1,1)))&(join_df['date']<np.datetime64(datetime(2019,1,1)))]"
   ]
  },
  {
   "cell_type": "code",
   "execution_count": 62,
   "metadata": {},
   "outputs": [],
   "source": [
    "test_df = join_df[(join_df['date']>=np.datetime64(datetime(2019,1,1)))&(join_df['date']<np.datetime64(datetime(2021,1,1)))]"
   ]
  },
  {
   "cell_type": "code",
   "execution_count": 63,
   "metadata": {},
   "outputs": [],
   "source": [
    "test_df.export_csv('test_timeseries.csv', chunksize=100_000)"
   ]
  },
  {
   "cell_type": "code",
   "execution_count": 64,
   "metadata": {},
   "outputs": [],
   "source": [
    "validation_df.export_csv('validation_timeseries.csv', chunksize=100_000)"
   ]
  },
  {
   "cell_type": "code",
   "execution_count": 65,
   "metadata": {},
   "outputs": [],
   "source": [
    "train_df.export_csv('train_timeseries.csv', chunksize=100_000)"
   ]
  },
  {
   "cell_type": "code",
   "execution_count": 3,
   "metadata": {},
   "outputs": [],
   "source": [
    "#df['date'] = df['date'].values.astype('datetime64[ns]')\n",
    "#df = df.sort(['fips','date'])"
   ]
  },
  {
   "cell_type": "code",
   "execution_count": 4,
   "metadata": {},
   "outputs": [],
   "source": [
    "#df.export_hdf5('data/weather_df_date.hdf5', progress=True)"
   ]
  },
  {
   "cell_type": "code",
   "execution_count": 5,
   "metadata": {},
   "outputs": [],
   "source": [
    "df = vaex.open('data/weather_df_date.hdf5')"
   ]
  },
  {
   "cell_type": "code",
   "execution_count": 6,
   "metadata": {},
   "outputs": [],
   "source": [
    "df_drought = pd.read_pickle('drought_df.pkl')"
   ]
  },
  {
   "cell_type": "code",
   "execution_count": 7,
   "metadata": {},
   "outputs": [],
   "source": [
    "df_drought['date'] = df_drought['date'].astype('datetime64[ns]')"
   ]
  },
  {
   "cell_type": "code",
   "execution_count": 8,
   "metadata": {},
   "outputs": [
    {
     "name": "stdout",
     "output_type": "stream",
     "text": [
      "<class 'pandas.core.frame.DataFrame'>\n",
      "Int64Index: 3407464 entries, 0 to 1095\n",
      "Data columns (total 10 columns):\n",
      " #   Column  Dtype         \n",
      "---  ------  -----         \n",
      " 0   fips    int64         \n",
      " 1   lat     float64       \n",
      " 2   lon     float64       \n",
      " 3   None    float64       \n",
      " 4   D0      float64       \n",
      " 5   D1      float64       \n",
      " 6   D2      float64       \n",
      " 7   D3      float64       \n",
      " 8   D4      float64       \n",
      " 9   date    datetime64[ns]\n",
      "dtypes: datetime64[ns](1), float64(8), int64(1)\n",
      "memory usage: 286.0 MB\n"
     ]
    }
   ],
   "source": [
    "df_drought.info()"
   ]
  },
  {
   "cell_type": "code",
   "execution_count": 9,
   "metadata": {},
   "outputs": [
    {
     "data": {
      "image/png": "[encoded data removed]",
      "text/plain": [
       "<Figure size 432x288 with 1 Axes>"
      ]
     },
     "metadata": {
      "needs_background": "light"
     },
     "output_type": "display_data"
    },
    {
     "data": {
      "image/png": "[encoded data removed]",
      "text/plain": [
       "<Figure size 432x288 with 1 Axes>"
      ]
     },
     "metadata": {
      "needs_background": "light"
     },
     "output_type": "display_data"
    },
    {
     "data": {
      "image/png": "[encoded data removed]",
      "text/plain": [
       "<Figure size 432x288 with 1 Axes>"
      ]
     },
     "metadata": {
      "needs_background": "light"
     },
     "output_type": "display_data"
    },
    {
     "data": {
      "image/png": "[encoded data removed]",
      "text/plain": [
       "<Figure size 432x288 with 1 Axes>"
      ]
     },
     "metadata": {
      "needs_background": "light"
     },
     "output_type": "display_data"
    },
    {
     "data": {
      "image/png": "[encoded data removed]",
      "text/plain": [
       "<Figure size 432x288 with 1 Axes>"
      ]
     },
     "metadata": {
      "needs_background": "light"
     },
     "output_type": "display_data"
    },
    {
     "data": {
      "image/png": "[encoded data removed]",
      "text/plain": [
       "<Figure size 432x288 with 1 Axes>"
      ]
     },
     "metadata": {
      "needs_background": "light"
     },
     "output_type": "display_data"
    }
   ],
   "source": [
    "for cat in ['None', 'D0', 'D1', 'D2', 'D3', 'D4']:\n",
    "    df_drought[cat].hist()\n",
    "    plt.title(cat)\n",
    "    plt.show()"
   ]
  },
  {
   "cell_type": "code",
   "execution_count": 10,
   "metadata": {},
   "outputs": [
    {
     "data": {
      "text/plain": [
       "0.7171286329070534"
      ]
     },
     "execution_count": 10,
     "metadata": {},
     "output_type": "execute_result"
    }
   ],
   "source": [
    "(\n",
    "    df_drought['None'].isin([100,0])&\n",
    "    df_drought['D0'].isin([100,0])&\n",
    "    df_drought['D1'].isin([100,0])&\n",
    "    df_drought['D2'].isin([100,0])&\n",
    "    df_drought['D3'].isin([100,0])&\n",
    "    df_drought['D4'].isin([100,0])\n",
    ").sum()/len(df_drought)"
   ]
  },
  {
   "cell_type": "markdown",
   "metadata": {},
   "source": [
    "71% of samples have categorical drought values"
   ]
  },
  {
   "cell_type": "code",
   "execution_count": 11,
   "metadata": {},
   "outputs": [
    {
     "data": {
      "text/plain": [
       "0.7775495206992649"
      ]
     },
     "execution_count": 11,
     "metadata": {},
     "output_type": "execute_result"
    }
   ],
   "source": [
    "(\n",
    "    (df_drought['None'].between(0,5)|df_drought['None'].between(95,100))&\n",
    "    (df_drought['D0'].between(0,5)|df_drought['D0'].between(95,100))&\n",
    "    (df_drought['D1'].between(0,5)|df_drought['D1'].between(95,100))&\n",
    "    (df_drought['D2'].between(0,5)|df_drought['D2'].between(95,100))&\n",
    "    (df_drought['D3'].between(0,5)|df_drought['D3'].between(95,100))&\n",
    "    (df_drought['D4'].between(0,5)|df_drought['D4'].between(95,100))\n",
    ").sum()/len(df_drought)"
   ]
  },
  {
   "cell_type": "markdown",
   "metadata": {},
   "source": [
    "77% of samples are almost categorical (within 5% of 100 or 0)"
   ]
  },
  {
   "cell_type": "code",
   "execution_count": 12,
   "metadata": {},
   "outputs": [
    {
     "data": {
      "text/plain": [
       "0.020833333333333332"
      ]
     },
     "execution_count": 12,
     "metadata": {},
     "output_type": "execute_result"
    }
   ],
   "source": [
    " 4_000/192_000 # num of positive samples for solar flare prediction"
   ]
  },
  {
   "cell_type": "code",
   "execution_count": 13,
   "metadata": {},
   "outputs": [],
   "source": [
    "df_drought_max = df_drought[(\n",
    "    (df_drought['None'].between(0,5)|df_drought['None'].between(95,100))&\n",
    "    (df_drought['D0'].between(0,5)|df_drought['D0'].between(95,100))&\n",
    "    (df_drought['D1'].between(0,5)|df_drought['D1'].between(95,100))&\n",
    "    (df_drought['D2'].between(0,5)|df_drought['D2'].between(95,100))&\n",
    "    (df_drought['D3'].between(0,5)|df_drought['D3'].between(95,100))&\n",
    "    (df_drought['D4'].between(0,5)|df_drought['D4'].between(95,100))\n",
    ")]"
   ]
  },
  {
   "cell_type": "code",
   "execution_count": 14,
   "metadata": {},
   "outputs": [],
   "source": [
    "%%capture\n",
    "df_drought_max.loc[:,'category'] = None\n",
    "for cat in ['None', 'D0', 'D1', 'D2', 'D3', 'D4']:\n",
    "    df_drought_max.loc[df_drought_max[cat] >= 95,'category'] = cat"
   ]
  },
  {
   "cell_type": "code",
   "execution_count": 15,
   "metadata": {},
   "outputs": [
    {
     "data": {
      "text/html": [
       "<div>\n",
       "<style scoped>\n",
       "    .dataframe tbody tr th:only-of-type {\n",
       "        vertical-align: middle;\n",
       "    }\n",
       "\n",
       "    .dataframe tbody tr th {\n",
       "        vertical-align: top;\n",
       "    }\n",
       "\n",
       "    .dataframe thead th {\n",
       "        text-align: right;\n",
       "    }\n",
       "</style>\n",
       "<table border=\"1\" class=\"dataframe\">\n",
       "  <thead>\n",
       "    <tr style=\"text-align: right;\">\n",
       "      <th></th>\n",
       "      <th>fips</th>\n",
       "      <th>lat</th>\n",
       "      <th>lon</th>\n",
       "      <th>None</th>\n",
       "      <th>D0</th>\n",
       "      <th>D1</th>\n",
       "      <th>D2</th>\n",
       "      <th>D3</th>\n",
       "      <th>D4</th>\n",
       "      <th>date</th>\n",
       "      <th>category</th>\n",
       "    </tr>\n",
       "  </thead>\n",
       "  <tbody>\n",
       "    <tr>\n",
       "      <th>0</th>\n",
       "      <td>1001</td>\n",
       "      <td>32.536382</td>\n",
       "      <td>-86.64449</td>\n",
       "      <td>100.00</td>\n",
       "      <td>0.00</td>\n",
       "      <td>0.0</td>\n",
       "      <td>0.0</td>\n",
       "      <td>0.0</td>\n",
       "      <td>0.0</td>\n",
       "      <td>2020-12-29</td>\n",
       "      <td>None</td>\n",
       "    </tr>\n",
       "    <tr>\n",
       "      <th>1</th>\n",
       "      <td>1001</td>\n",
       "      <td>32.536382</td>\n",
       "      <td>-86.64449</td>\n",
       "      <td>100.00</td>\n",
       "      <td>0.00</td>\n",
       "      <td>0.0</td>\n",
       "      <td>0.0</td>\n",
       "      <td>0.0</td>\n",
       "      <td>0.0</td>\n",
       "      <td>2020-12-22</td>\n",
       "      <td>None</td>\n",
       "    </tr>\n",
       "    <tr>\n",
       "      <th>2</th>\n",
       "      <td>1001</td>\n",
       "      <td>32.536382</td>\n",
       "      <td>-86.64449</td>\n",
       "      <td>100.00</td>\n",
       "      <td>0.00</td>\n",
       "      <td>0.0</td>\n",
       "      <td>0.0</td>\n",
       "      <td>0.0</td>\n",
       "      <td>0.0</td>\n",
       "      <td>2020-12-15</td>\n",
       "      <td>None</td>\n",
       "    </tr>\n",
       "    <tr>\n",
       "      <th>3</th>\n",
       "      <td>1001</td>\n",
       "      <td>32.536382</td>\n",
       "      <td>-86.64449</td>\n",
       "      <td>100.00</td>\n",
       "      <td>0.00</td>\n",
       "      <td>0.0</td>\n",
       "      <td>0.0</td>\n",
       "      <td>0.0</td>\n",
       "      <td>0.0</td>\n",
       "      <td>2020-12-08</td>\n",
       "      <td>None</td>\n",
       "    </tr>\n",
       "    <tr>\n",
       "      <th>4</th>\n",
       "      <td>1001</td>\n",
       "      <td>32.536382</td>\n",
       "      <td>-86.64449</td>\n",
       "      <td>100.00</td>\n",
       "      <td>0.00</td>\n",
       "      <td>0.0</td>\n",
       "      <td>0.0</td>\n",
       "      <td>0.0</td>\n",
       "      <td>0.0</td>\n",
       "      <td>2020-12-01</td>\n",
       "      <td>None</td>\n",
       "    </tr>\n",
       "    <tr>\n",
       "      <th>...</th>\n",
       "      <td>...</td>\n",
       "      <td>...</td>\n",
       "      <td>...</td>\n",
       "      <td>...</td>\n",
       "      <td>...</td>\n",
       "      <td>...</td>\n",
       "      <td>...</td>\n",
       "      <td>...</td>\n",
       "      <td>...</td>\n",
       "      <td>...</td>\n",
       "      <td>...</td>\n",
       "    </tr>\n",
       "    <tr>\n",
       "      <th>1091</th>\n",
       "      <td>56045</td>\n",
       "      <td>43.846213</td>\n",
       "      <td>-104.57002</td>\n",
       "      <td>100.00</td>\n",
       "      <td>0.00</td>\n",
       "      <td>0.0</td>\n",
       "      <td>0.0</td>\n",
       "      <td>0.0</td>\n",
       "      <td>0.0</td>\n",
       "      <td>2000-02-01</td>\n",
       "      <td>None</td>\n",
       "    </tr>\n",
       "    <tr>\n",
       "      <th>1092</th>\n",
       "      <td>56045</td>\n",
       "      <td>43.846213</td>\n",
       "      <td>-104.57002</td>\n",
       "      <td>3.93</td>\n",
       "      <td>96.07</td>\n",
       "      <td>0.0</td>\n",
       "      <td>0.0</td>\n",
       "      <td>0.0</td>\n",
       "      <td>0.0</td>\n",
       "      <td>2000-01-25</td>\n",
       "      <td>D0</td>\n",
       "    </tr>\n",
       "    <tr>\n",
       "      <th>1093</th>\n",
       "      <td>56045</td>\n",
       "      <td>43.846213</td>\n",
       "      <td>-104.57002</td>\n",
       "      <td>100.00</td>\n",
       "      <td>0.00</td>\n",
       "      <td>0.0</td>\n",
       "      <td>0.0</td>\n",
       "      <td>0.0</td>\n",
       "      <td>0.0</td>\n",
       "      <td>2000-01-18</td>\n",
       "      <td>None</td>\n",
       "    </tr>\n",
       "    <tr>\n",
       "      <th>1094</th>\n",
       "      <td>56045</td>\n",
       "      <td>43.846213</td>\n",
       "      <td>-104.57002</td>\n",
       "      <td>100.00</td>\n",
       "      <td>0.00</td>\n",
       "      <td>0.0</td>\n",
       "      <td>0.0</td>\n",
       "      <td>0.0</td>\n",
       "      <td>0.0</td>\n",
       "      <td>2000-01-11</td>\n",
       "      <td>None</td>\n",
       "    </tr>\n",
       "    <tr>\n",
       "      <th>1095</th>\n",
       "      <td>56045</td>\n",
       "      <td>43.846213</td>\n",
       "      <td>-104.57002</td>\n",
       "      <td>100.00</td>\n",
       "      <td>0.00</td>\n",
       "      <td>0.0</td>\n",
       "      <td>0.0</td>\n",
       "      <td>0.0</td>\n",
       "      <td>0.0</td>\n",
       "      <td>2000-01-04</td>\n",
       "      <td>None</td>\n",
       "    </tr>\n",
       "  </tbody>\n",
       "</table>\n",
       "<p>2649472 rows × 11 columns</p>\n",
       "</div>"
      ],
      "text/plain": [
       "       fips        lat        lon    None     D0   D1   D2   D3   D4  \\\n",
       "0      1001  32.536382  -86.64449  100.00   0.00  0.0  0.0  0.0  0.0   \n",
       "1      1001  32.536382  -86.64449  100.00   0.00  0.0  0.0  0.0  0.0   \n",
       "2      1001  32.536382  -86.64449  100.00   0.00  0.0  0.0  0.0  0.0   \n",
       "3      1001  32.536382  -86.64449  100.00   0.00  0.0  0.0  0.0  0.0   \n",
       "4      1001  32.536382  -86.64449  100.00   0.00  0.0  0.0  0.0  0.0   \n",
       "...     ...        ...        ...     ...    ...  ...  ...  ...  ...   \n",
       "1091  56045  43.846213 -104.57002  100.00   0.00  0.0  0.0  0.0  0.0   \n",
       "1092  56045  43.846213 -104.57002    3.93  96.07  0.0  0.0  0.0  0.0   \n",
       "1093  56045  43.846213 -104.57002  100.00   0.00  0.0  0.0  0.0  0.0   \n",
       "1094  56045  43.846213 -104.57002  100.00   0.00  0.0  0.0  0.0  0.0   \n",
       "1095  56045  43.846213 -104.57002  100.00   0.00  0.0  0.0  0.0  0.0   \n",
       "\n",
       "           date category  \n",
       "0    2020-12-29     None  \n",
       "1    2020-12-22     None  \n",
       "2    2020-12-15     None  \n",
       "3    2020-12-08     None  \n",
       "4    2020-12-01     None  \n",
       "...         ...      ...  \n",
       "1091 2000-02-01     None  \n",
       "1092 2000-01-25       D0  \n",
       "1093 2000-01-18     None  \n",
       "1094 2000-01-11     None  \n",
       "1095 2000-01-04     None  \n",
       "\n",
       "[2649472 rows x 11 columns]"
      ]
     },
     "execution_count": 15,
     "metadata": {},
     "output_type": "execute_result"
    }
   ],
   "source": [
    "df_drought_max"
   ]
  },
  {
   "cell_type": "code",
   "execution_count": 16,
   "metadata": {},
   "outputs": [
    {
     "data": {
      "image/png": "[encoded data removed]",
      "text/plain": [
       "<Figure size 432x288 with 1 Axes>"
      ]
     },
     "metadata": {
      "needs_background": "light"
     },
     "output_type": "display_data"
    }
   ],
   "source": [
    "(df_drought_max['category'].value_counts()/len(df_drought_max)).plot(kind='bar')\n",
    "plt.show()"
   ]
  },
  {
   "cell_type": "code",
   "execution_count": 17,
   "metadata": {},
   "outputs": [
    {
     "data": {
      "text/plain": [
       "None    0.738704\n",
       "D0      0.118678\n",
       "D1      0.066937\n",
       "D2      0.042290\n",
       "D3      0.023193\n",
       "D4      0.010199\n",
       "Name: category, dtype: float64"
      ]
     },
     "execution_count": 17,
     "metadata": {},
     "output_type": "execute_result"
    }
   ],
   "source": [
    "df_drought_max['category'].value_counts()/len(df_drought_max)"
   ]
  },
  {
   "cell_type": "code",
   "execution_count": 18,
   "metadata": {},
   "outputs": [],
   "source": [
    "df_drought = df_drought_max[['fips','date','category']]"
   ]
  },
  {
   "cell_type": "code",
   "execution_count": 19,
   "metadata": {},
   "outputs": [
    {
     "data": {
      "text/html": [
       "<div>\n",
       "<style scoped>\n",
       "    .dataframe tbody tr th:only-of-type {\n",
       "        vertical-align: middle;\n",
       "    }\n",
       "\n",
       "    .dataframe tbody tr th {\n",
       "        vertical-align: top;\n",
       "    }\n",
       "\n",
       "    .dataframe thead th {\n",
       "        text-align: right;\n",
       "    }\n",
       "</style>\n",
       "<table border=\"1\" class=\"dataframe\">\n",
       "  <thead>\n",
       "    <tr style=\"text-align: right;\">\n",
       "      <th></th>\n",
       "      <th>fips</th>\n",
       "      <th>date</th>\n",
       "      <th>category</th>\n",
       "    </tr>\n",
       "  </thead>\n",
       "  <tbody>\n",
       "    <tr>\n",
       "      <th>0</th>\n",
       "      <td>1001</td>\n",
       "      <td>2020-12-29</td>\n",
       "      <td>None</td>\n",
       "    </tr>\n",
       "    <tr>\n",
       "      <th>1</th>\n",
       "      <td>1001</td>\n",
       "      <td>2020-12-22</td>\n",
       "      <td>None</td>\n",
       "    </tr>\n",
       "    <tr>\n",
       "      <th>2</th>\n",
       "      <td>1001</td>\n",
       "      <td>2020-12-15</td>\n",
       "      <td>None</td>\n",
       "    </tr>\n",
       "    <tr>\n",
       "      <th>3</th>\n",
       "      <td>1001</td>\n",
       "      <td>2020-12-08</td>\n",
       "      <td>None</td>\n",
       "    </tr>\n",
       "    <tr>\n",
       "      <th>4</th>\n",
       "      <td>1001</td>\n",
       "      <td>2020-12-01</td>\n",
       "      <td>None</td>\n",
       "    </tr>\n",
       "    <tr>\n",
       "      <th>...</th>\n",
       "      <td>...</td>\n",
       "      <td>...</td>\n",
       "      <td>...</td>\n",
       "    </tr>\n",
       "    <tr>\n",
       "      <th>1091</th>\n",
       "      <td>56045</td>\n",
       "      <td>2000-02-01</td>\n",
       "      <td>None</td>\n",
       "    </tr>\n",
       "    <tr>\n",
       "      <th>1092</th>\n",
       "      <td>56045</td>\n",
       "      <td>2000-01-25</td>\n",
       "      <td>D0</td>\n",
       "    </tr>\n",
       "    <tr>\n",
       "      <th>1093</th>\n",
       "      <td>56045</td>\n",
       "      <td>2000-01-18</td>\n",
       "      <td>None</td>\n",
       "    </tr>\n",
       "    <tr>\n",
       "      <th>1094</th>\n",
       "      <td>56045</td>\n",
       "      <td>2000-01-11</td>\n",
       "      <td>None</td>\n",
       "    </tr>\n",
       "    <tr>\n",
       "      <th>1095</th>\n",
       "      <td>56045</td>\n",
       "      <td>2000-01-04</td>\n",
       "      <td>None</td>\n",
       "    </tr>\n",
       "  </tbody>\n",
       "</table>\n",
       "<p>2649472 rows × 3 columns</p>\n",
       "</div>"
      ],
      "text/plain": [
       "       fips       date category\n",
       "0      1001 2020-12-29     None\n",
       "1      1001 2020-12-22     None\n",
       "2      1001 2020-12-15     None\n",
       "3      1001 2020-12-08     None\n",
       "4      1001 2020-12-01     None\n",
       "...     ...        ...      ...\n",
       "1091  56045 2000-02-01     None\n",
       "1092  56045 2000-01-25       D0\n",
       "1093  56045 2000-01-18     None\n",
       "1094  56045 2000-01-11     None\n",
       "1095  56045 2000-01-04     None\n",
       "\n",
       "[2649472 rows x 3 columns]"
      ]
     },
     "execution_count": 19,
     "metadata": {},
     "output_type": "execute_result"
    }
   ],
   "source": [
    "df_drought"
   ]
  },
  {
   "cell_type": "code",
   "execution_count": 20,
   "metadata": {},
   "outputs": [],
   "source": [
    "class2id = {\n",
    "    'None': 0,\n",
    "    'D0': 1,\n",
    "    'D1': 2,\n",
    "    'D2': 3,\n",
    "    'D3': 4,\n",
    "    'D4': 5,\n",
    "}"
   ]
  },
  {
   "cell_type": "code",
   "execution_count": 21,
   "metadata": {},
   "outputs": [],
   "source": [
    "value_types = [\n",
    "    \"PRECTOT\",\n",
    "    \"PS\",\n",
    "    \"QV2M\",\n",
    "    \"T2M\",\n",
    "    \"T2MDEW\",\n",
    "    \"T2MWET\",\n",
    "    \"T2M_MAX\",\n",
    "    \"T2M_MIN\",\n",
    "    \"T2M_RANGE\",\n",
    "    \"TS\",\n",
    "    \"WS10M\",\n",
    "    \"WS10M_MAX\",\n",
    "    \"WS10M_MIN\",\n",
    "    \"WS10M_RANGE\",\n",
    "    \"WS50M\",\n",
    "    \"WS50M_MAX\",\n",
    "    \"WS50M_MIN\",\n",
    "    \"WS50M_RANGE\"\n",
    "]"
   ]
  },
  {
   "cell_type": "code",
   "execution_count": 22,
   "metadata": {},
   "outputs": [],
   "source": [
    "num_days = 180"
   ]
  },
  {
   "cell_type": "code",
   "execution_count": 50,
   "metadata": {},
   "outputs": [],
   "source": [
    "start_date = datetime(2000,1,1)\n",
    "end_date = datetime(2010,1,1)\n",
    "\n",
    "def create_fips_samples(fips):\n",
    "    global start_date, end_date\n",
    "    l_start_date = copy.copy(start_date) + relativedelta(years=1)\n",
    "    l_end_date = copy.copy(end_date)\n",
    "    #print(f'{fips}\\n')\n",
    "    np.random.seed(fips+int(l_start_date.timestamp()))\n",
    "    county = fips\n",
    "    num_days = 180 # approx. 3 months of data\n",
    "    l_start_date = l_start_date + relativedelta(days=num_days+np.random.randint(num_days+1))\n",
    "    county_df = df[df['fips']==county]\n",
    "    samples = []\n",
    "    current_date = None\n",
    "    \n",
    "    while l_start_date < l_end_date and len(county_df) > 0:\n",
    "        sample = {}\n",
    "        old_date = current_date\n",
    "        current_date = df_drought[\n",
    "            (df_drought['fips']==county)&\n",
    "            (df_drought['date']>=l_start_date)\n",
    "        ]['date'].min()\n",
    "        if current_date >= l_end_date or pd.isnull(current_date) or old_date == current_date:\n",
    "            break\n",
    "            \n",
    "        # past classes\n",
    "        past_classes = df_drought[\n",
    "            (df_drought['fips']==county)&\n",
    "            (df_drought['date']<=current_date)\n",
    "        ].sort_values('date')[-num_days:].copy()\n",
    "        past_classes = past_classes.set_index('date')\n",
    "        past_classes = past_classes.reindex(\n",
    "            pd.date_range(start=past_classes.index.min(),\n",
    "            end=past_classes.index.max(),\n",
    "            freq='1D')\n",
    "        )\n",
    "        past_classes = past_classes.interpolate(\n",
    "            method='pad',\n",
    "            limit_direction='forward'\n",
    "        )['category'].values[-num_days:]\n",
    "        past_classes = [class2id[x] for x in past_classes]\n",
    "        if len(past_classes) < num_days:\n",
    "            l_start_date += relativedelta(days=num_days)\n",
    "            continue\n",
    "        \n",
    "        # past year classes\n",
    "        past_yr_classes = df_drought[\n",
    "            (df_drought['fips']==county)&\n",
    "            (df_drought['date']<=(current_date-relativedelta(years=1)))\n",
    "        ].sort_values('date')[-num_days:].copy()\n",
    "        past_yr_classes = past_yr_classes.set_index('date')\n",
    "        past_yr_classes = past_yr_classes.reindex(\n",
    "            pd.date_range(start=past_yr_classes.index.min(),\n",
    "            end=past_yr_classes.index.max(),\n",
    "            freq='1D')\n",
    "        )\n",
    "        past_yr_classes = past_yr_classes.interpolate(\n",
    "            method='pad',\n",
    "            limit_direction='forward'\n",
    "        )['category'].values[-num_days:]\n",
    "        past_yr_classes = [class2id[x] for x in past_yr_classes]\n",
    "        if len(past_yr_classes) < num_days:\n",
    "            l_start_date += relativedelta(days=num_days)\n",
    "            continue\n",
    "        \n",
    "        # future classes\n",
    "        fut_classes = df_drought[\n",
    "            (df_drought['fips']==county)&\n",
    "            (df_drought['date']>current_date)\n",
    "        ].copy()\n",
    "        fut_classes = fut_classes['category'].values[:12]\n",
    "        fut_classes = [class2id[x] for x in fut_classes]\n",
    "        if len(fut_classes) < 12:\n",
    "            break\n",
    "        \n",
    "        sample['classes'] = past_classes\n",
    "        sample['future_classes'] = fut_classes\n",
    "        sample['past_year_classes'] = past_yr_classes\n",
    "        sample['values'] = {}\n",
    "        sample['past_year_values'] = {}\n",
    "        values = {}\n",
    "        past_year_values = {}\n",
    "        \n",
    "        vals = county_df[\n",
    "            (county_df['date']<=np.datetime64(current_date))\n",
    "        ][-num_days:]\n",
    "        vals_prev_year = county_df[\n",
    "            (county_df['date']<=np.datetime64(current_date-relativedelta(years=1)))\n",
    "        ][-num_days:]\n",
    "        #dates = vals['date']\n",
    "        sample['meta'] = { \n",
    "            'date': current_date.date(),\n",
    "            'fips': county,\n",
    "            #'valueStartDate': dates.values[0],\n",
    "            #'valueEndDate': dates.values[-1],\n",
    "        }\n",
    "        sorted_types = sorted(value_types)\n",
    "        vals_raw = vals[sorted_types].values\n",
    "        vals_prev_raw = vals_prev_year[sorted_types].values\n",
    "        for i in range(len(value_types)):\n",
    "            sample['values'][sorted_types[i]] = vals_raw[:,i]\n",
    "            sample['past_year_values'][sorted_types[i]] = vals_prev_raw[:,i]\n",
    "        sample_hash = str(hash(str(sample['meta']['date'])+str(sample['meta']['fips'])))\n",
    "        samples.append((sample, sample_hash))\n",
    "        l_start_date += relativedelta(days=num_days)\n",
    "    return samples"
   ]
  },
  {
   "cell_type": "code",
   "execution_count": 38,
   "metadata": {},
   "outputs": [
    {
     "data": {
      "application/vnd.jupyter.widget-view+json": {
       "model_id": "d388cfa09cd447f6b86776d493a87a38",
       "version_major": 2,
       "version_minor": 0
      },
      "text/plain": [
       "HBox(children=(FloatProgress(value=0.0, max=3109.0), HTML(value='')))"
      ]
     },
     "metadata": {},
     "output_type": "display_data"
    },
    {
     "name": "stdout",
     "output_type": "stream",
     "text": [
      "\n"
     ]
    }
   ],
   "source": [
    "start_date = datetime(2017,1,1)\n",
    "end_date = datetime(2019,1,1)\n",
    "\n",
    "numbers = df_drought['fips'].unique()\n",
    "with h5py.File('sets/validation_set.h5py', 'w') as f:\n",
    "    for number in tqdm(numbers.tolist()):\n",
    "        for sample, sample_hash in create_fips_samples(number):\n",
    "            dset = f.create_dataset(\n",
    "                sample_hash, \n",
    "                (num_days, len(value_types)*2+2), \n",
    "                dtype='float32',\n",
    "                compression='gzip'\n",
    "            )\n",
    "            count = 0\n",
    "            for val in sorted(value_types):\n",
    "                dset[:,count] = sample['values'][val]\n",
    "                count += 1\n",
    "            for val in sorted(value_types):\n",
    "                dset[:,count] = sample['past_year_values'][val]\n",
    "                count += 1\n",
    "            dset[:,count] = sample['classes']\n",
    "            count += 1\n",
    "            dset[:,count] = sample['past_year_classes']\n",
    "            date = sample['meta']['date']\n",
    "            dset.attrs.create('date', [date.year, date.month, date.day], (3,), 'i8')\n",
    "            dset.attrs.create('fips', sample['meta']['fips'], (1,), 'i8')\n",
    "            dset.attrs.create('target', sample['future_classes'], (12,), 'i8')"
   ]
  },
  {
   "cell_type": "code",
   "execution_count": 51,
   "metadata": {
    "scrolled": false
   },
   "outputs": [
    {
     "data": {
      "application/vnd.jupyter.widget-view+json": {
       "model_id": "4d9ffc66405a49fa8c1543507c4a3aa7",
       "version_major": 2,
       "version_minor": 0
      },
      "text/plain": [
       "HBox(children=(FloatProgress(value=0.0, max=3109.0), HTML(value='')))"
      ]
     },
     "metadata": {},
     "output_type": "display_data"
    },
    {
     "name": "stdout",
     "output_type": "stream",
     "text": [
      "\n"
     ]
    },
    {
     "ename": "ValueError",
     "evalue": "Neither `start` nor `end` can be NaT",
     "output_type": "error",
     "traceback": [
      "\u001b[0;31m---------------------------------------------------------------------------\u001b[0m",
      "\u001b[0;31mValueError\u001b[0m                                Traceback (most recent call last)",
      "\u001b[0;32m<ipython-input-51-68a5fc0764f8>\u001b[0m in \u001b[0;36m<module>\u001b[0;34m\u001b[0m\n\u001b[1;32m      5\u001b[0m \u001b[0;32mwith\u001b[0m \u001b[0mh5py\u001b[0m\u001b[0;34m.\u001b[0m\u001b[0mFile\u001b[0m\u001b[0;34m(\u001b[0m\u001b[0;34m'sets/training_set.h5py'\u001b[0m\u001b[0;34m,\u001b[0m \u001b[0;34m'w'\u001b[0m\u001b[0;34m)\u001b[0m \u001b[0;32mas\u001b[0m \u001b[0mf\u001b[0m\u001b[0;34m:\u001b[0m\u001b[0;34m\u001b[0m\u001b[0;34m\u001b[0m\u001b[0m\n\u001b[1;32m      6\u001b[0m     \u001b[0;32mfor\u001b[0m \u001b[0mnumber\u001b[0m \u001b[0;32min\u001b[0m \u001b[0mtqdm\u001b[0m\u001b[0;34m(\u001b[0m\u001b[0mnumbers\u001b[0m\u001b[0;34m.\u001b[0m\u001b[0mtolist\u001b[0m\u001b[0;34m(\u001b[0m\u001b[0;34m)\u001b[0m\u001b[0;34m)\u001b[0m\u001b[0;34m:\u001b[0m\u001b[0;34m\u001b[0m\u001b[0;34m\u001b[0m\u001b[0m\n\u001b[0;32m----> 7\u001b[0;31m         \u001b[0;32mfor\u001b[0m \u001b[0msample\u001b[0m\u001b[0;34m,\u001b[0m \u001b[0msample_hash\u001b[0m \u001b[0;32min\u001b[0m \u001b[0mcreate_fips_samples\u001b[0m\u001b[0;34m(\u001b[0m\u001b[0mnumber\u001b[0m\u001b[0;34m)\u001b[0m\u001b[0;34m:\u001b[0m\u001b[0;34m\u001b[0m\u001b[0;34m\u001b[0m\u001b[0m\n\u001b[0m\u001b[1;32m      8\u001b[0m             dset = f.create_dataset(\n\u001b[1;32m      9\u001b[0m                 \u001b[0msample_hash\u001b[0m\u001b[0;34m,\u001b[0m\u001b[0;34m\u001b[0m\u001b[0;34m\u001b[0m\u001b[0m\n",
      "\u001b[0;32m<ipython-input-50-92ad9d58630b>\u001b[0m in \u001b[0;36mcreate_fips_samples\u001b[0;34m(fips)\u001b[0m\n\u001b[1;32m     52\u001b[0m         \u001b[0mpast_yr_classes\u001b[0m \u001b[0;34m=\u001b[0m \u001b[0mpast_yr_classes\u001b[0m\u001b[0;34m.\u001b[0m\u001b[0mset_index\u001b[0m\u001b[0;34m(\u001b[0m\u001b[0;34m'date'\u001b[0m\u001b[0;34m)\u001b[0m\u001b[0;34m\u001b[0m\u001b[0;34m\u001b[0m\u001b[0m\n\u001b[1;32m     53\u001b[0m         past_yr_classes = past_yr_classes.reindex(\n\u001b[0;32m---> 54\u001b[0;31m             pd.date_range(start=past_yr_classes.index.min(),\n\u001b[0m\u001b[1;32m     55\u001b[0m             \u001b[0mend\u001b[0m\u001b[0;34m=\u001b[0m\u001b[0mpast_yr_classes\u001b[0m\u001b[0;34m.\u001b[0m\u001b[0mindex\u001b[0m\u001b[0;34m.\u001b[0m\u001b[0mmax\u001b[0m\u001b[0;34m(\u001b[0m\u001b[0;34m)\u001b[0m\u001b[0;34m,\u001b[0m\u001b[0;34m\u001b[0m\u001b[0;34m\u001b[0m\u001b[0m\n\u001b[1;32m     56\u001b[0m             freq='1D')\n",
      "\u001b[0;32m~/.local/lib/python3.8/site-packages/pandas/core/indexes/datetimes.py\u001b[0m in \u001b[0;36mdate_range\u001b[0;34m(start, end, periods, freq, tz, normalize, name, closed, **kwargs)\u001b[0m\n\u001b[1;32m   1067\u001b[0m         \u001b[0mfreq\u001b[0m \u001b[0;34m=\u001b[0m \u001b[0;34m\"D\"\u001b[0m\u001b[0;34m\u001b[0m\u001b[0;34m\u001b[0m\u001b[0m\n\u001b[1;32m   1068\u001b[0m \u001b[0;34m\u001b[0m\u001b[0m\n\u001b[0;32m-> 1069\u001b[0;31m     dtarr = DatetimeArray._generate_range(\n\u001b[0m\u001b[1;32m   1070\u001b[0m         \u001b[0mstart\u001b[0m\u001b[0;34m=\u001b[0m\u001b[0mstart\u001b[0m\u001b[0;34m,\u001b[0m\u001b[0;34m\u001b[0m\u001b[0;34m\u001b[0m\u001b[0m\n\u001b[1;32m   1071\u001b[0m         \u001b[0mend\u001b[0m\u001b[0;34m=\u001b[0m\u001b[0mend\u001b[0m\u001b[0;34m,\u001b[0m\u001b[0;34m\u001b[0m\u001b[0;34m\u001b[0m\u001b[0m\n",
      "\u001b[0;32m~/.local/lib/python3.8/site-packages/pandas/core/arrays/datetimes.py\u001b[0m in \u001b[0;36m_generate_range\u001b[0;34m(cls, start, end, periods, freq, tz, normalize, ambiguous, nonexistent, closed)\u001b[0m\n\u001b[1;32m    384\u001b[0m \u001b[0;34m\u001b[0m\u001b[0m\n\u001b[1;32m    385\u001b[0m         \u001b[0;32mif\u001b[0m \u001b[0mstart\u001b[0m \u001b[0;32mis\u001b[0m \u001b[0mNaT\u001b[0m \u001b[0;32mor\u001b[0m \u001b[0mend\u001b[0m \u001b[0;32mis\u001b[0m \u001b[0mNaT\u001b[0m\u001b[0;34m:\u001b[0m\u001b[0;34m\u001b[0m\u001b[0;34m\u001b[0m\u001b[0m\n\u001b[0;32m--> 386\u001b[0;31m             \u001b[0;32mraise\u001b[0m \u001b[0mValueError\u001b[0m\u001b[0;34m(\u001b[0m\u001b[0;34m\"Neither `start` nor `end` can be NaT\"\u001b[0m\u001b[0;34m)\u001b[0m\u001b[0;34m\u001b[0m\u001b[0;34m\u001b[0m\u001b[0m\n\u001b[0m\u001b[1;32m    387\u001b[0m \u001b[0;34m\u001b[0m\u001b[0m\n\u001b[1;32m    388\u001b[0m         \u001b[0mleft_closed\u001b[0m\u001b[0;34m,\u001b[0m \u001b[0mright_closed\u001b[0m \u001b[0;34m=\u001b[0m \u001b[0mdtl\u001b[0m\u001b[0;34m.\u001b[0m\u001b[0mvalidate_endpoints\u001b[0m\u001b[0;34m(\u001b[0m\u001b[0mclosed\u001b[0m\u001b[0;34m)\u001b[0m\u001b[0;34m\u001b[0m\u001b[0;34m\u001b[0m\u001b[0m\n",
      "\u001b[0;31mValueError\u001b[0m: Neither `start` nor `end` can be NaT"
     ]
    }
   ],
   "source": [
    "start_date = datetime(2000,1,1)\n",
    "end_date = datetime(2017,1,1)\n",
    "\n",
    "numbers = df_drought['fips'].unique()\n",
    "with h5py.File('sets/training_set.h5py', 'w') as f:\n",
    "    for number in tqdm(numbers.tolist()):\n",
    "        for sample, sample_hash in create_fips_samples(number):\n",
    "            dset = f.create_dataset(\n",
    "                sample_hash, \n",
    "                (num_days, len(value_types)*2+2), \n",
    "                dtype='float32',\n",
    "                compression='gzip'\n",
    "            )\n",
    "            count = 0\n",
    "            for val in sorted(value_types):\n",
    "                dset[:,count] = sample['values'][val]\n",
    "                count += 1\n",
    "            for val in sorted(value_types):\n",
    "                dset[:,count] = sample['past_year_values'][val]\n",
    "                count += 1\n",
    "            dset[:,count] = sample['classes']\n",
    "            count += 1\n",
    "            dset[:,count] = sample['past_year_classes']\n",
    "            date = sample['meta']['date']\n",
    "            dset.attrs.create('date', [date.year, date.month, date.day], (3,), 'i8')\n",
    "            dset.attrs.create('fips', sample['meta']['fips'], (1,), 'i8')\n",
    "            dset.attrs.create('target', sample['future_classes'], (12,), 'i8')"
   ]
  },
  {
   "cell_type": "code",
   "execution_count": null,
   "metadata": {},
   "outputs": [],
   "source": [
    "start_date = datetime(2019,1,1)\n",
    "end_date = datetime(2021,1,1)\n",
    "\n",
    "numbers = df_drought['fips'].unique()\n",
    "with h5py.File('sets/test_set.h5py', 'w') as f:\n",
    "    for number in tqdm(numbers.tolist()):\n",
    "        for sample, sample_hash in create_fips_samples(number):\n",
    "            dset = f.create_dataset(\n",
    "                sample_hash, \n",
    "                (num_days, len(value_types)*2+2), \n",
    "                dtype='float32',\n",
    "                compression='gzip'\n",
    "            )\n",
    "            count = 0\n",
    "            for val in sorted(value_types):\n",
    "                dset[:,count] = sample['values'][val]\n",
    "                count += 1\n",
    "            for val in sorted(value_types):\n",
    "                dset[:,count] = sample['past_year_values'][val]\n",
    "                count += 1\n",
    "            dset[:,count] = sample['classes']\n",
    "            count += 1\n",
    "            dset[:,count] = sample['past_year_classes']\n",
    "            date = sample['meta']['date']\n",
    "            dset.attrs.create('date', [date.year, date.month, date.day], (3,), 'i8')\n",
    "            dset.attrs.create('fips', sample['meta']['fips'], (1,), 'i8')\n",
    "            dset.attrs.create('target', sample['future_classes'], (12,), 'i8')"
   ]
  },
  {
   "cell_type": "code",
   "execution_count": null,
   "metadata": {},
   "outputs": [],
   "source": []
  }
 ],
 "metadata": {
  "kernelspec": {
   "display_name": "Python 3",
   "language": "python",
   "name": "python3"
  },
  "language_info": {
   "codemirror_mode": {
    "name": "ipython",
    "version": 3
   },
   "file_extension": ".py",
   "mimetype": "text/x-python",
   "name": "python",
   "nbconvert_exporter": "python",
   "pygments_lexer": "ipython3",
   "version": "3.8.5"
  }
 },
 "nbformat": 4,
 "nbformat_minor": 4
}
