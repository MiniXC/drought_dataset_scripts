{
 "cells": [
  {
   "cell_type": "code",
   "execution_count": 57,
   "metadata": {},
   "outputs": [],
   "source": [
    "import xmltodict\n",
    "import pandas as pd\n",
    "from tqdm.auto import tqdm"
   ]
  },
  {
   "cell_type": "code",
   "execution_count": 2,
   "metadata": {},
   "outputs": [],
   "source": [
    "b = open('data/drought.xml', \"r\").readlines()"
   ]
  },
  {
   "cell_type": "code",
   "execution_count": 20,
   "metadata": {},
   "outputs": [],
   "source": [
    "latlon_df = pd.read_html('https://en.wikipedia.org/wiki/User:Michael_J/County_table', index_col=0)[0]\n",
    "float_degrees = lambda x: float(x.replace('°','').replace('–','-'))\n",
    "latlon_df['Latitude'] = latlon_df['Latitude'].apply(float_degrees)\n",
    "latlon_df['Longitude'] = latlon_df['Longitude'].apply(float_degrees)"
   ]
  },
  {
   "cell_type": "code",
   "execution_count": 46,
   "metadata": {},
   "outputs": [],
   "source": [
    "def df_from_line(line):\n",
    "    values = (\n",
    "        xmltodict.parse(line.replace('@','_'))\n",
    "        ['item']\n",
    "        ['ArrayOfCountyStatisticsDroughtSeverity']\n",
    "        ['CountyStatisticsDroughtSeverity']\n",
    "        ['value']\n",
    "    )\n",
    "    fips = int(values[0]['FIPS'])\n",
    "    fips_county = latlon_df[latlon_df['FIPS']==fips]\n",
    "    lat, lon = fips_county['Latitude'].values[0], fips_county['Longitude'].values[0]\n",
    "    val_dict = {\n",
    "        'fips': [],\n",
    "        'lat': [],\n",
    "        'lon': [],\n",
    "        'None': [],\n",
    "        'D0': [],\n",
    "        'D1': [],\n",
    "        'D2': [],\n",
    "        'D3': [],\n",
    "        'D4': [],\n",
    "        'date': [],\n",
    "    }\n",
    "    for val in values:\n",
    "        val_dict['fips'].append(fips)\n",
    "        val_dict['lat'].append(lat)\n",
    "        val_dict['lon'].append(lon)\n",
    "        val_dict['None'].append(val['None'])\n",
    "        val_dict['D0'].append(val['D0'])\n",
    "        val_dict['D1'].append(val['D1'])\n",
    "        val_dict['D2'].append(val['D2'])\n",
    "        val_dict['D3'].append(val['D3'])\n",
    "        val_dict['D4'].append(val['D4'])\n",
    "        val_dict['date'].append(val['ValidStart'])\n",
    "    df = pd.DataFrame.from_dict(val_dict)\n",
    "    df['None'] = df['None'].astype(float)\n",
    "    df['D0'] = df['D0'].astype(float)\n",
    "    df['D1'] = df['D1'].astype(float)\n",
    "    df['D2'] = df['D2'].astype(float)\n",
    "    df['D3'] = df['D3'].astype(float)\n",
    "    df['D4'] = df['D4'].astype(float)\n",
    "    df['date'] = pd.to_datetime(df['date'])\n",
    "    return df"
   ]
  },
  {
   "cell_type": "code",
   "execution_count": 47,
   "metadata": {},
   "outputs": [
    {
     "name": "stdout",
     "output_type": "stream",
     "text": [
      "<class 'pandas.core.frame.DataFrame'>\n",
      "RangeIndex: 1096 entries, 0 to 1095\n",
      "Data columns (total 10 columns):\n",
      " #   Column  Non-Null Count  Dtype         \n",
      "---  ------  --------------  -----         \n",
      " 0   fips    1096 non-null   int64         \n",
      " 1   lat     1096 non-null   float64       \n",
      " 2   lon     1096 non-null   float64       \n",
      " 3   None    1096 non-null   float64       \n",
      " 4   D0      1096 non-null   float64       \n",
      " 5   D1      1096 non-null   float64       \n",
      " 6   D2      1096 non-null   float64       \n",
      " 7   D3      1096 non-null   float64       \n",
      " 8   D4      1096 non-null   float64       \n",
      " 9   date    1096 non-null   datetime64[ns]\n",
      "dtypes: datetime64[ns](1), float64(8), int64(1)\n",
      "memory usage: 85.8 KB\n"
     ]
    }
   ],
   "source": [
    "df_from_line(b[6]).info()"
   ]
  },
  {
   "cell_type": "code",
   "execution_count": 58,
   "metadata": {},
   "outputs": [
    {
     "data": {
      "application/vnd.jupyter.widget-view+json": {
       "model_id": "f5e1262eb4fe476fa51f62ad46bf01ed",
       "version_major": 2,
       "version_minor": 0
      },
      "text/plain": [
       "  0%|          | 0/3109 [00:00<?, ?it/s]"
      ]
     },
     "metadata": {},
     "output_type": "display_data"
    }
   ],
   "source": [
    "dfs = []\n",
    "for line in tqdm(b[2:-1]):\n",
    "    dfs.append(df_from_line(line))"
   ]
  },
  {
   "cell_type": "code",
   "execution_count": 60,
   "metadata": {},
   "outputs": [],
   "source": [
    "all_df = pd.concat(dfs)"
   ]
  },
  {
   "cell_type": "code",
   "execution_count": 61,
   "metadata": {},
   "outputs": [],
   "source": [
    "all_df.to_pickle('drought_df.pkl')"
   ]
  },
  {
   "cell_type": "code",
   "execution_count": null,
   "metadata": {},
   "outputs": [],
   "source": []
  }
 ],
 "metadata": {
  "kernelspec": {
   "display_name": "Python 3",
   "language": "python",
   "name": "python3"
  },
  "language_info": {
   "codemirror_mode": {
    "name": "ipython",
    "version": 3
   },
   "file_extension": ".py",
   "mimetype": "text/x-python",
   "name": "python",
   "nbconvert_exporter": "python",
   "pygments_lexer": "ipython3",
   "version": "3.8.5"
  }
 },
 "nbformat": 4,
 "nbformat_minor": 4
}
