{
 "cells": [
  {
   "cell_type": "code",
   "execution_count": 1,
   "id": "swedish-script",
   "metadata": {},
   "outputs": [],
   "source": [
    "%%capture\n",
    "import vaex\n",
    "import pandas as pd\n",
    "import numpy as np\n",
    "import matplotlib.pyplot as plt\n",
    "from tqdm.auto import tqdm\n",
    "from datetime import datetime\n",
    "from dateutil.relativedelta import relativedelta\n",
    "import calendar\n",
    "import multiprocessing\n",
    "import json\n",
    "import copy\n",
    "import h5py\n",
    "%load_ext line_profiler"
   ]
  },
  {
   "cell_type": "code",
   "execution_count": 2,
   "id": "burning-hunger",
   "metadata": {},
   "outputs": [
    {
     "data": {
      "application/vnd.jupyter.widget-view+json": {
       "model_id": "cee35c1bb63d4cff9fcf2539495b8ab9",
       "version_major": 2,
       "version_minor": 0
      },
      "text/plain": [
       "HBox(children=(FloatProgress(value=0.0, max=2160.0), HTML(value='')))"
      ]
     },
     "metadata": {},
     "output_type": "display_data"
    },
    {
     "name": "stdout",
     "output_type": "stream",
     "text": [
      "0\n",
      "100\n",
      "200\n",
      "300\n",
      "400\n",
      "500\n",
      "600\n",
      "700\n",
      "800\n",
      "900\n",
      "1000\n",
      "1100\n",
      "1200\n",
      "1300\n",
      "1400\n",
      "1500\n",
      "1600\n",
      "1700\n",
      "1800\n",
      "1900\n",
      "2000\n",
      "2100\n",
      "\n"
     ]
    }
   ],
   "source": [
    "from scipy.sparse import dok_matrix\n",
    "from tqdm.auto import tqdm\n",
    "\n",
    "with open(\"data/GloElev_5min.asc\", \"r\") as file:\n",
    "    cols, rows = int(file.readline().split()[1]), int(file.readline().split()[1])\n",
    "    x_corner, y_corner = int(file.readline().split()[1]), int(file.readline().split()[1])\n",
    "    cellsize = float(file.readline().split()[1])\n",
    "    nodata_val = file.readline().split()[1]\n",
    "    line = file.readline()\n",
    "    M = dok_matrix((rows, cols), dtype=np.int8)\n",
    "    empty_line = ' ' + ' '.join([nodata_val] * cols) + '\\n'\n",
    "    for i in tqdm(range(rows)):\n",
    "        if i % 100 == 0:\n",
    "            print(i)\n",
    "        if empty_line != line:\n",
    "            for j, val in enumerate(line.split()):\n",
    "                if val != nodata_val:\n",
    "                    M[i,j] = val\n",
    "        line = file.readline()"
   ]
  },
  {
   "cell_type": "code",
   "execution_count": null,
   "id": "composed-judges",
   "metadata": {},
   "outputs": [],
   "source": [
    "with open(\"data/GloElev_5min.asc\", \"r\") as file:\n",
    "    cols, rows = int(file.readline().split()[1]), int(file.readline().split()[1])\n",
    "    x_corner, y_corner = int(file.readline().split()[1]), int(file.readline().split()[1])\n",
    "    cellsize = float(file.readline().split()[1])\n",
    "    nodata_val = file.readline().split()[1]\n",
    "    line = file.readline()\n",
    "    M = dok_matrix((rows, cols), dtype=np.int8)\n",
    "    empty_line = ' ' + ' '.join([nodata_val] * cols) + '\\n'\n",
    "    for i in tqdm(range(rows)):\n",
    "        if i % 100 == 0:\n",
    "            print(i)\n",
    "        if empty_line != line:\n",
    "            for j, val in enumerate(line.split()):\n",
    "                if val != nodata_val:\n",
    "                    M[i,j] = val\n",
    "        line = file.readline()"
   ]
  },
  {
   "cell_type": "code",
   "execution_count": 3,
   "id": "familiar-baseline",
   "metadata": {},
   "outputs": [
    {
     "data": {
      "text/plain": [
       "(-180, -90, 0.0833333333333333)"
      ]
     },
     "execution_count": 3,
     "metadata": {},
     "output_type": "execute_result"
    }
   ],
   "source": [
    "x_corner, y_corner, cellsize"
   ]
  },
  {
   "cell_type": "code",
   "execution_count": 4,
   "id": "certified-toolbox",
   "metadata": {},
   "outputs": [
    {
     "data": {
      "application/vnd.jupyter.widget-view+json": {
       "model_id": "22d3b6406a6c4c91804b968331e4828a",
       "version_major": 2,
       "version_minor": 0
      },
      "text/plain": [
       "HBox(children=(FloatProgress(value=0.0, max=2269168.0), HTML(value='')))"
      ]
     },
     "metadata": {},
     "output_type": "display_data"
    },
    {
     "name": "stdout",
     "output_type": "stream",
     "text": [
      "\n"
     ]
    }
   ],
   "source": [
    "soil_dict = {\n",
    "    'lon': [],\n",
    "    'lat': [],\n",
    "    'vals': [],\n",
    "}\n",
    "\n",
    "for i in tqdm(M.items()):\n",
    "    lat, lon  = i[0]\n",
    "    lon, lat = (x_corner + lon*cellsize), (abs(y_corner) - lat*cellsize)\n",
    "    soil_dict['lon'].append(lon)\n",
    "    soil_dict['lat'].append(lat)\n",
    "    soil_dict['vals'].append(i[1])"
   ]
  },
  {
   "cell_type": "code",
   "execution_count": null,
   "id": "identical-civilization",
   "metadata": {},
   "outputs": [],
   "source": [
    "pd.DataFrame(soil_dict)"
   ]
  }
 ],
 "metadata": {
  "kernelspec": {
   "display_name": "Python 3",
   "language": "python",
   "name": "python3"
  },
  "language_info": {
   "codemirror_mode": {
    "name": "ipython",
    "version": 3
   },
   "file_extension": ".py",
   "mimetype": "text/x-python",
   "name": "python",
   "nbconvert_exporter": "python",
   "pygments_lexer": "ipython3",
   "version": "3.8.5"
  }
 },
 "nbformat": 4,
 "nbformat_minor": 5
}
